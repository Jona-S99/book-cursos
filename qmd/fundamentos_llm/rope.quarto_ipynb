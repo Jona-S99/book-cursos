{
  "cells": [
    {
      "cell_type": "markdown",
      "metadata": {},
      "source": [
        "---\n",
        "jupyter: python3\n",
        "fig-cap-location: top\n",
        "---\n",
        "\n",
        "# RoPE\n",
        "\n",
        "RoPE (Rotary Position Embedding o Rotary Position Encoding) es una técnica utilizada en modelos de lenguaje como los Transformers para que el modelo pueda saber en qué posición está cada palabra o token dentro de una secuencia de texto.\n",
        "\n",
        "::: {.callout-note}\n",
        "Rotary Position Embedding y Rotary Position Encoding son la misma técnica, pero con distinto nombre. En la mayoría de los artículos y recursos técnicos se usa Rotary Position Embedding, pero el concepto es el mismo: una forma de incorporar la posición en los tokens a través de rotaciones en el espacio vectorial.\n",
        ":::\n",
        "\n",
        "A diferencia de los métodos tradicionales que suman información de posición a los vectores de las palabras, RoPE incorpora la posición aplicando rotaciones matemáticas en el espacio vectorial de cada token. \n",
        "\n",
        "::: {}\n",
        "Funcionamiento de RoPE:\n",
        "![](../../static/images/fundamentos_llm/RoPE_ej.jpg)\n",
        ":::\n",
        "\n",
        "En este ejemplo, primeramente se guardó la posición de \"perro\", y luego identifica \"cuánto se mueve\" al entrar en contacto con otras palabras.\n",
        "\n",
        "Esto permite que el modelo entienda mejor el orden y la relación entre las palabras, incluso en secuencias largas, y mejora su capacidad para captar patrones y dependencias en el texto. \n",
        "\n",
        "En resumen, RoPE ayuda a que el modelo “sepa” dónde está cada palabra y cómo se relaciona con las demás, usando rotaciones en vez de sumas, lo que resulta más eficiente y flexible para el aprendizaje."
      ],
      "id": "4cdbb08c"
    }
  ],
  "metadata": {
    "kernelspec": {
      "name": "python3",
      "language": "python",
      "display_name": "Python 3 (ipykernel)",
      "path": "/Users/jona/Github/book-cursos/.venv/share/jupyter/kernels/python3"
    }
  },
  "nbformat": 4,
  "nbformat_minor": 5
}